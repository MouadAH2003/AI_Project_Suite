{
 "cells": [
  {
   "cell_type": "code",
   "execution_count": 4,
   "id": "e0e9d5f6-28c7-46cf-b610-dbd61094b8d7",
   "metadata": {},
   "outputs": [
    {
     "data": {
      "text/plain": [
       "\n",
       "Call:\n",
       "lm(formula = efficiency ~ temperature)\n",
       "\n",
       "Residuals:\n",
       "    Min      1Q  Median      3Q     Max \n",
       "-1.3758 -0.5591  0.1242  0.7470  1.1152 \n",
       "\n",
       "Coefficients:\n",
       "            Estimate Std. Error t value Pr(>|t|)    \n",
       "(Intercept) -2.73939    1.54650  -1.771    0.114    \n",
       "temperature  0.48303    0.01046  46.169 5.35e-11 ***\n",
       "---\n",
       "Signif. codes:  0 '***' 0.001 '**' 0.01 '*' 0.05 '.' 0.1 ' ' 1\n",
       "\n",
       "Residual standard error: 0.9503 on 8 degrees of freedom\n",
       "Multiple R-squared:  0.9963,\tAdjusted R-squared:  0.9958 \n",
       "F-statistic:  2132 on 1 and 8 DF,  p-value: 5.353e-11\n"
      ]
     },
     "metadata": {},
     "output_type": "display_data"
    },
    {
     "name": "stdout",
     "output_type": "stream",
     "text": [
      "Coefficient beta_0: -2.739394 \n",
      "Coefficient beta_1: 0.4830303 \n",
      "Coefficient de détermination R^2: 0.9962609 \n"
     ]
    }
   ],
   "source": [
    "# Données\n",
    "temperature <- c(100, 110, 120, 130, 140, 150, 160, 170, 180, 190)#,105,180)\n",
    "efficiency <- c(45, 51, 54, 61, 66, 70, 74, 78, 85, 89)#,80,80)\n",
    "\n",
    "# Calcul des coefficients de régression\n",
    "regression_model <- lm(efficiency ~ temperature)\n",
    "\n",
    "# Affichage des résultats\n",
    "summary(regression_model)\n",
    "\n",
    "# Coefficients de régression\n",
    "beta_0 <- coef(regression_model)[1]\n",
    "beta_1 <- coef(regression_model)[2]\n",
    "\n",
    "# Coefficient de détermination R^2\n",
    "r_squared <- summary(regression_model)$r.squared\n",
    "\n",
    "# Affichage des résultats\n",
    "cat(\"Coefficient beta_0:\", beta_0, \"\\n\")\n",
    "cat(\"Coefficient beta_1:\", beta_1, \"\\n\")\n",
    "cat(\"Coefficient de détermination R^2:\", r_squared, \"\\n\")\n"
   ]
  },
  {
   "cell_type": "code",
   "execution_count": null,
   "id": "b64566bd-efef-490c-b303-b3836ad27b2a",
   "metadata": {},
   "outputs": [],
   "source": []
  }
 ],
 "metadata": {
  "kernelspec": {
   "display_name": "R [conda env:.conda-octavee]",
   "language": "R",
   "name": "conda-env-.conda-octavee-r"
  },
  "language_info": {
   "codemirror_mode": "r",
   "file_extension": ".r",
   "mimetype": "text/x-r-source",
   "name": "R",
   "pygments_lexer": "r",
   "version": "3.6.1"
  }
 },
 "nbformat": 4,
 "nbformat_minor": 5
}

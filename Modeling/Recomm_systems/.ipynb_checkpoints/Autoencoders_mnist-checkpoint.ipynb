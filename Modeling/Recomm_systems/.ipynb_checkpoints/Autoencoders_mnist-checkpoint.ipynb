{
 "cells": [
  {
   "cell_type": "code",
   "execution_count": 3,
   "id": "c968f4c6-3b19-406a-9fae-ba063f568e85",
   "metadata": {},
   "outputs": [],
   "source": [
    "import tensorflow as tf\n",
    "import numpy as np\n",
    "import matplotlib.pyplot as plt\n",
    "\n"
   ]
  },
  {
   "cell_type": "code",
   "execution_count": 6,
   "id": "a3deb778-5773-4abd-96c6-efb2edd1e2bf",
   "metadata": {},
   "outputs": [],
   "source": [
    "mnist = tf.keras.datasets.mnist\n",
    "(X_train , y_train) , (X_test ,y_test) = mnist.load_data()"
   ]
  },
  {
   "cell_type": "code",
   "execution_count": 7,
   "id": "0313d028-2bd0-4f36-bf2f-4566bf4802b5",
   "metadata": {},
   "outputs": [],
   "source": [
    "X_train = X_train.astype(\"float32\") / 255.\n",
    "X_test = X_test.astype(\"float32\") / 255."
   ]
  },
  {
   "cell_type": "code",
   "execution_count": 8,
   "id": "d853e7ec-17d1-4ab2-af7c-e536dd09f4c6",
   "metadata": {},
   "outputs": [],
   "source": [
    "y_train = y_train.astype(\"float32\") / 255.\n",
    "y_test = y_test.astype(\"float32\") / 255."
   ]
  },
  {
   "cell_type": "code",
   "execution_count": 10,
   "id": "1a259324-1d45-4ba9-b84d-112f827423fd",
   "metadata": {},
   "outputs": [],
   "source": [
    "x_image_train = tf.reshape(X_train , [-1,28,28,1])\n",
    "x_image_train = tf.cast(x_image_train , \"float32\")\n",
    "\n",
    "\n",
    "x_image_test = tf.reshape(X_test , [-1,28,28,1])\n",
    "x_image_test = tf.cast(X_test , \"float32\")"
   ]
  },
  {
   "cell_type": "code",
   "execution_count": 12,
   "id": "61d876ce-d679-4b57-99bc-93655117edba",
   "metadata": {},
   "outputs": [
    {
     "name": "stdout",
     "output_type": "stream",
     "text": [
      "(60000, 28, 28)\n"
     ]
    }
   ],
   "source": [
    "print(X_train.shape)"
   ]
  },
  {
   "cell_type": "code",
   "execution_count": 13,
   "id": "52a1e808-4af6-4541-a36d-753678b28864",
   "metadata": {},
   "outputs": [],
   "source": [
    "flatten_layer = tf.keras.layers.Flatten()\n",
    "X_train = flatten_layer(X_train)"
   ]
  },
  {
   "cell_type": "code",
   "execution_count": 14,
   "id": "020b2d5a-b234-410c-975b-16fa0ba57eca",
   "metadata": {},
   "outputs": [
    {
     "name": "stdout",
     "output_type": "stream",
     "text": [
      "(60000, 784)\n"
     ]
    }
   ],
   "source": [
    "print(X_train.shape)\n"
   ]
  },
  {
   "cell_type": "code",
   "execution_count": null,
   "id": "299b3323-fb14-465d-86be-e5ef75d55034",
   "metadata": {},
   "outputs": [],
   "source": [
    "lr = 0.01\n",
    "training_epochs = 20\n",
    "batch_size = 256\n",
    "display_step = 1\n",
    "examples_to_show = 10\n",
    "global_step = tf.Variable(0)\n",
    "total_batch = int(len(X_train) /batch_size)\n",
    "\n",
    "n_hidden1 = 256\n",
    "n_hidden2 = 128\n",
    "encoding_layer = 32\n",
    "n_input = 784"
   ]
  },
  {
   "cell_type": "code",
   "execution_count": null,
   "id": "53f3e07e-e30d-4baa-878c-7adec973f67c",
   "metadata": {},
   "outputs": [],
   "source": [
    "## ENcode \n",
    "encoding_1 = tf.keras.layers.Dense(n_hidden1 , activation=tf.nn.sigmoid)\n",
    "encoding_2 = tf.keras.layers.Dense(n_hidden2 , activation=tf.nn.sigmoid)\n",
    "encoding_final = tf.keras.layers.Dense(encoding_layer , activation=tf.nn.relu)\n",
    "\n",
    "\n",
    "\n",
    "def encoder(x):\n",
    "    x_reshaped = flatten_layer(x)\n",
    "\n",
    "    layer_1 = encoding_1(x_reshaped)\n",
    "\n",
    "    layer_2 = encoding_2(layer_1)\n",
    "    code = encoding_final(layer_2)"
   ]
  },
  {
   "cell_type": "code",
   "execution_count": null,
   "id": "8abb4b3f-28f2-4aed-89c7-6933c6e18870",
   "metadata": {},
   "outputs": [],
   "source": [
    "## decode \n",
    "decoding_1 = tf.keras.layers.Dense(n_hidden2 , activation=tf.nn.sigmoid)\n",
    "decoding_2 = tf.keras.layers.Dense(n_hidden1 , activation=tf.nn.sigmoid)\n",
    "decoding_final = tf.keras.layers.Dense(n_input)\n",
    "\n",
    "\n",
    "\n",
    "def decoder(x):\n",
    "    layer_1 = decoding_1(x)\n",
    "\n",
    "    layer_2 = decoding_2(layer_1)\n",
    "    decode = decoding_final(layer_2)\n",
    "\n",
    "    return  decode"
   ]
  },
  {
   "cell_type": "code",
   "execution_count": null,
   "id": "b8538917-cbe2-4d76-b1a6-c0feb184b071",
   "metadata": {},
   "outputs": [],
   "source": [
    "# ## Let's construct our model . We define a cost function \n",
    "# ## to calculate the loss and a grad function to calculate \n",
    "# ## gradients that will be used in backpropagation  \n",
    "\n",
    "# class AE(tf.keras.Model):\n",
    "#     def __init__():\n",
    "#         super(AE, self).__init__()\n",
    "\n",
    "#         self.n_hidden_1 = n_hidden1\n",
    "#         self.n_hidden_2 = n_hidden2\n",
    "#         self.encoding_layer = encoding_layer\n",
    "\n",
    "#         self.flatten_layer = tf.keras.layers.Flatten()\n",
    "        \n",
    "        "
   ]
  }
 ],
 "metadata": {
  "kernelspec": {
   "display_name": "Python 3 (ipykernel)",
   "language": "python",
   "name": "python3"
  },
  "language_info": {
   "codemirror_mode": {
    "name": "ipython",
    "version": 3
   },
   "file_extension": ".py",
   "mimetype": "text/x-python",
   "name": "python",
   "nbconvert_exporter": "python",
   "pygments_lexer": "ipython3",
   "version": "3.9.13"
  }
 },
 "nbformat": 4,
 "nbformat_minor": 5
}
